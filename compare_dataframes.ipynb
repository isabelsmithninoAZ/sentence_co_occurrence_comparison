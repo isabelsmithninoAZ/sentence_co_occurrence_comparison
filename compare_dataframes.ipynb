{
 "cells": [
  {
   "cell_type": "markdown",
   "metadata": {},
   "source": [
    "## Comparison of CMAP/Chembl and sentence co-occurrence matrices\n",
    "\n",
    "This notebook compares the sentence co-occurrence data (the \"predictions\") to the CMAP/Chembl data (the \"truth). The matrices are filtered down so that they both have the same rows and columns, and then I compare the elements of each matrix.\n",
    "\n",
    "The rows of both matrices represent genes while the columns represent diseases.\n",
    "\n",
    "### Data format\n",
    "- CMAP/Chembl: binary matrix with elements {ij} = 1 if there is a relationship between gene i and disease j, and 0 otherwise\n",
    "- Sentence Co-Occurrence: matrix with element {ij} = (number of abstracts in which both gene and disease are mentioned)\n",
    "\n",
    "### Comparison measures\n",
    "I am only comparing whether there is a relationship or not, so I am not taking into account the number of abstracts where the gene and disease were mentioned.\n",
    "1. Recall: Proportion of correctly predicted relationships/total number of relationships\n",
    "2. Specificity: Proportion of correctly predicted non-relationships/total number of non-relationships\n",
    "\n",
    "The numerators in both comparison measures are based on the original CMAP/Chembl matrix, and not the filtered one."
   ]
  },
  {
   "cell_type": "code",
   "execution_count": 1,
   "metadata": {},
   "outputs": [],
   "source": [
    "import pandas as pd"
   ]
  },
  {
   "cell_type": "markdown",
   "metadata": {},
   "source": [
    "## Comparison measure functions for recall, specificity and precision\n",
    "\n",
    "These measures are based on the CMAP/Chembl filtered matrices, i.e., these are the \"truth\""
   ]
  },
  {
   "cell_type": "code",
   "execution_count": 8,
   "metadata": {},
   "outputs": [],
   "source": [
    "def compare_recall(df_original, df, number_of_relationships):\n",
    "    count = 0\n",
    "    for col in df_original.columns:\n",
    "        for row in df_original.index:\n",
    "            if (df_original[col][row] >0) & (df[col][row] >0): # both dataframes show a relationship\n",
    "                count = count + 1\n",
    "    recall = count/number_of_relationships\n",
    "    return print('The recall is: {}'.format(recall))\n",
    "\n",
    "\n",
    "\n",
    "def compare_specificity(df_original,df, number_of_non_relationships):\n",
    "    count = 0\n",
    "    for col in df_original.columns:\n",
    "        for row in df_original.index:\n",
    "            if (df_original[col][row] == 0) & (df[col][row] == 0): # both dataframes show a non-relationship\n",
    "                count = count + 1          \n",
    "    spec = count/number_of_non_relationships            \n",
    "    return print('The specificity is: {}'.format(spec))\n",
    "\n",
    "\n",
    "\n",
    "def compare_precision(df_original, df, number_of_elements):\n",
    "    count = 0\n",
    "    for col in df_original.columns:\n",
    "        for row in df_original.index:\n",
    "            if df_original[col][row] == df[col][row]: # both dataframes show same value (relationship OR non-relationship)\n",
    "                count = count + 1\n",
    "    precision = count/number_of_elements        \n",
    "    return print('The precision is: {}'.format(precision)) "
   ]
  },
  {
   "cell_type": "markdown",
   "metadata": {},
   "source": [
    "# CMAP comparison"
   ]
  },
  {
   "cell_type": "code",
   "execution_count": 3,
   "metadata": {},
   "outputs": [],
   "source": [
    "# importing the filtered matrices and putting them in correct format for comparison\n",
    "cmap_filtered = pd.read_csv('cmap_filtered.csv').set_index('target').fillna(0)\n",
    "co_filtered = pd.read_csv('co_occurrence_filtered.csv').set_index('target')\n",
    "\n",
    "# calculating total number of connections for comparison measures\n",
    "number_of_elements = len(cmap_filtered.columns)*len(cmap_filtered.index)\n",
    "number_of_relationships = cmap_filtered.sum().sum()\n",
    "number_of_non_relationships = number_of_elements - number_of_relationships"
   ]
  },
  {
   "cell_type": "code",
   "execution_count": 4,
   "metadata": {},
   "outputs": [
    {
     "name": "stdout",
     "output_type": "stream",
     "text": [
      "The proportion of true relationships in the CMAP data is: 0.011943834259378904\n"
     ]
    }
   ],
   "source": [
    "print(\"The proportion of true relationships in the CMAP data is: {}\".format(number_of_relationships/number_of_elements))"
   ]
  },
  {
   "cell_type": "markdown",
   "metadata": {},
   "source": [
    "### Results\n",
    "\n",
    "Recall - the \"truth\" is the filtered cmap data for now. The results are slightly lower if I use the original CMAP data"
   ]
  },
  {
   "cell_type": "code",
   "execution_count": 5,
   "metadata": {},
   "outputs": [
    {
     "name": "stdout",
     "output_type": "stream",
     "text": [
      "The recall is: 0.561846375766318\n"
     ]
    }
   ],
   "source": [
    "compare_recall(cmap_filtered,co_filtered, number_of_relationships)"
   ]
  },
  {
   "cell_type": "code",
   "execution_count": 6,
   "metadata": {},
   "outputs": [
    {
     "name": "stdout",
     "output_type": "stream",
     "text": [
      "The specificity is: 0.8235177443471362\n"
     ]
    }
   ],
   "source": [
    "compare_specificity(cmap_filtered,co_filtered, number_of_non_relationships)"
   ]
  },
  {
   "cell_type": "code",
   "execution_count": 9,
   "metadata": {},
   "outputs": [
    {
     "name": "stdout",
     "output_type": "stream",
     "text": [
      "The precision is: 0.8148490330361373\n"
     ]
    }
   ],
   "source": [
    "compare_precision(cmap_filtered,co_filtered, number_of_elements)"
   ]
  },
  {
   "cell_type": "markdown",
   "metadata": {},
   "source": [
    "# Chembl comparison"
   ]
  },
  {
   "cell_type": "code",
   "execution_count": 15,
   "metadata": {},
   "outputs": [],
   "source": [
    "# importing the dataframes and putting in the correct format\n",
    "chembl_filtered = pd.read_csv('chembl_filtered.csv').set_index('target').fillna(0)\n",
    "co_chembl_filtered = pd.read_csv('parquet_chembl_filtered.csv').set_index('target').fillna(0)\n",
    "\n",
    "# calculating total number of connections for comparison measures\n",
    "number_of_elements = len(chembl_filtered.columns)*len(chembl_filtered.index)\n",
    "number_of_relationships = chembl_filtered.sum().sum()\n",
    "number_of_non_relationships = number_of_elements - number_of_relationships"
   ]
  },
  {
   "cell_type": "code",
   "execution_count": 16,
   "metadata": {},
   "outputs": [
    {
     "name": "stdout",
     "output_type": "stream",
     "text": [
      "The proportion of true relationships in the Chembl data is: 0.0328443672392717\n"
     ]
    }
   ],
   "source": [
    "print(\"The proportion of true relationships in the Chembl data is: {}\".format(number_of_relationships/number_of_elements))"
   ]
  },
  {
   "cell_type": "markdown",
   "metadata": {},
   "source": [
    "### Results"
   ]
  },
  {
   "cell_type": "code",
   "execution_count": 10,
   "metadata": {},
   "outputs": [
    {
     "name": "stdout",
     "output_type": "stream",
     "text": [
      "The recall is: 0.37221294002419775\n"
     ]
    }
   ],
   "source": [
    "compare_recall(chembl_filtered, co_chembl_filtered, number_of_relationships)"
   ]
  },
  {
   "cell_type": "code",
   "execution_count": 11,
   "metadata": {},
   "outputs": [
    {
     "name": "stdout",
     "output_type": "stream",
     "text": [
      "The specificity is: 0.8692685456021757\n"
     ]
    }
   ],
   "source": [
    "compare_specificity(chembl_filtered, co_chembl_filtered, number_of_non_relationships)"
   ]
  },
  {
   "cell_type": "code",
   "execution_count": 12,
   "metadata": {},
   "outputs": [
    {
     "name": "stdout",
     "output_type": "stream",
     "text": [
      "The specificity is: 0.8407179702608703\n"
     ]
    }
   ],
   "source": [
    "compare_specificity(chembl_filtered, co_chembl_filtered, number_of_elements)"
   ]
  },
  {
   "cell_type": "code",
   "execution_count": null,
   "metadata": {},
   "outputs": [],
   "source": []
  }
 ],
 "metadata": {
  "kernelspec": {
   "display_name": "Python 3",
   "language": "python",
   "name": "python3"
  },
  "language_info": {
   "codemirror_mode": {
    "name": "ipython",
    "version": 3
   },
   "file_extension": ".py",
   "mimetype": "text/x-python",
   "name": "python",
   "nbconvert_exporter": "python",
   "pygments_lexer": "ipython3",
   "version": "3.7.1"
  }
 },
 "nbformat": 4,
 "nbformat_minor": 2
}
