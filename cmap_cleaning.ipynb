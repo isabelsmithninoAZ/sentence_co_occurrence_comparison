{
 "cells": [
  {
   "cell_type": "markdown",
   "metadata": {},
   "source": [
    "# Convert cmap csv file to a matrix \n",
    "\n",
    "This notebook takes as input a csv file with two columns for target and indication - from the original raw CMAP data Anna provided me with. The output is a matrix which has genes/targets as rows, and indication as columns and a 1 if there is a link between a specific gene/target and indication and 0 otherwise.\n",
    "\n",
    "At almost each step I need to remove duplicates which get generated. "
   ]
  },
  {
   "cell_type": "code",
   "execution_count": 51,
   "metadata": {},
   "outputs": [],
   "source": [
    "import pandas as pd\n",
    "import numpy as np\n",
    "\n",
    "import warnings\n",
    "warnings.filterwarnings('ignore')"
   ]
  },
  {
   "cell_type": "code",
   "execution_count": 2,
   "metadata": {},
   "outputs": [],
   "source": [
    "# reading in the csv file with the raw data\n",
    "df = pd.read_csv('cmap_reduced.csv')"
   ]
  },
  {
   "cell_type": "code",
   "execution_count": 3,
   "metadata": {},
   "outputs": [
    {
     "data": {
      "text/html": [
       "<div>\n",
       "<style scoped>\n",
       "    .dataframe tbody tr th:only-of-type {\n",
       "        vertical-align: middle;\n",
       "    }\n",
       "\n",
       "    .dataframe tbody tr th {\n",
       "        vertical-align: top;\n",
       "    }\n",
       "\n",
       "    .dataframe thead th {\n",
       "        text-align: right;\n",
       "    }\n",
       "</style>\n",
       "<table border=\"1\" class=\"dataframe\">\n",
       "  <thead>\n",
       "    <tr style=\"text-align: right;\">\n",
       "      <th></th>\n",
       "      <th>target</th>\n",
       "      <th>indication</th>\n",
       "    </tr>\n",
       "  </thead>\n",
       "  <tbody>\n",
       "    <tr>\n",
       "      <th>count</th>\n",
       "      <td>4508</td>\n",
       "      <td>2095</td>\n",
       "    </tr>\n",
       "    <tr>\n",
       "      <th>unique</th>\n",
       "      <td>2351</td>\n",
       "      <td>997</td>\n",
       "    </tr>\n",
       "    <tr>\n",
       "      <th>top</th>\n",
       "      <td>PTGS1|PTGS2</td>\n",
       "      <td>hypertension</td>\n",
       "    </tr>\n",
       "    <tr>\n",
       "      <th>freq</th>\n",
       "      <td>45</td>\n",
       "      <td>66</td>\n",
       "    </tr>\n",
       "  </tbody>\n",
       "</table>\n",
       "</div>"
      ],
      "text/plain": [
       "             target    indication\n",
       "count          4508          2095\n",
       "unique         2351           997\n",
       "top     PTGS1|PTGS2  hypertension\n",
       "freq             45            66"
      ]
     },
     "execution_count": 3,
     "metadata": {},
     "output_type": "execute_result"
    }
   ],
   "source": [
    "df.describe()"
   ]
  },
  {
   "cell_type": "code",
   "execution_count": 4,
   "metadata": {},
   "outputs": [],
   "source": [
    "# Only interested in rows with both a target and indication- these are the links to compare with sentence co-occurence\n",
    "\n",
    "df_reduced = pd.DataFrame(df[df['target'].notnull() & df['indication'].notnull()])\n",
    "df_reduced.reset_index(inplace=True)\n",
    "df_reduced.drop(columns=['index'], inplace=True)"
   ]
  },
  {
   "cell_type": "code",
   "execution_count": 5,
   "metadata": {},
   "outputs": [
    {
     "data": {
      "text/plain": [
       "178"
      ]
     },
     "execution_count": 5,
     "metadata": {},
     "output_type": "execute_result"
    }
   ],
   "source": [
    "# checking whether there are duplicates\n",
    "sum(df_reduced.duplicated())"
   ]
  },
  {
   "cell_type": "markdown",
   "metadata": {},
   "source": [
    "Dropping duplicates. Further along I need to do this again, as once I separate out both the target and indication there are more duplicates"
   ]
  },
  {
   "cell_type": "code",
   "execution_count": 6,
   "metadata": {},
   "outputs": [],
   "source": [
    "df_clean = pd.DataFrame(df_reduced.drop_duplicates())"
   ]
  },
  {
   "cell_type": "markdown",
   "metadata": {},
   "source": [
    "### The following are two functions for separating out multiple targets within the same cell and multiple indications within the same cell, respectively.\n",
    "\n",
    "The original data can have in a single row: t1|t2 i1|i2, and I want to separate that out to have 4 rows instead: t1 i1, t1 i2, t2 i1, t2 i2"
   ]
  },
  {
   "cell_type": "code",
   "execution_count": 7,
   "metadata": {},
   "outputs": [],
   "source": [
    "# this function separates out the targets and creates a new row for each target with the corresponding indication\n",
    "def split_target(df):\n",
    "     \n",
    "    for i in range(0,len(df)):       \n",
    "        temp_targets = df['target'][i].split('|')       \n",
    "        df['target'][i] = temp_targets[0]\n",
    "        \n",
    "        n = len(temp_targets)      \n",
    "        if n>=2: # if there is more than one target in the row          \n",
    "            for j in range(1,n):\n",
    "                temp_row = [temp_targets[j], df['indication'][i]]\n",
    "                df = pd.DataFrame(df.append({'target': temp_row[0], 'indication':temp_row[1]}, ignore_index=True))\n",
    "            \n",
    "    df.sort_values(['indication', 'target'], inplace=True)\n",
    "    \n",
    "    return df        "
   ]
  },
  {
   "cell_type": "code",
   "execution_count": 8,
   "metadata": {},
   "outputs": [],
   "source": [
    "# this new function separates out the indications and creates a new row for each one with corresponding target\n",
    "def split_indication(df):\n",
    "     \n",
    "    for i in range(0,len(df)):\n",
    "        temp_ind = df['indication'][i].split('|')      \n",
    "        df['indication'][i] = temp_ind[0]\n",
    "    \n",
    "        n = len(temp_ind) \n",
    "        if n>=2: # if there is more than one indication in the row  \n",
    "            for j in range(1,n):\n",
    "                temp_row = [df['target'][i], temp_ind[j]]\n",
    "                df = pd.DataFrame(df.append({'target': temp_row[0], 'indication':temp_row[1]}, ignore_index=True))\n",
    "            \n",
    "    df.sort_values(['target', 'indication'], inplace=True)\n",
    "    \n",
    "    return df "
   ]
  },
  {
   "cell_type": "code",
   "execution_count": 9,
   "metadata": {},
   "outputs": [],
   "source": [
    "# target transformation\n",
    "df1 = split_target(df_clean)\n",
    "df1.reset_index(inplace=True)\n",
    "df1.drop(columns=['index'], inplace=True)"
   ]
  },
  {
   "cell_type": "code",
   "execution_count": 11,
   "metadata": {},
   "outputs": [],
   "source": [
    "# indication transformation\n",
    "df2 = split_indication(df1)\n",
    "df2.reset_index(inplace=True)\n",
    "df2.drop(columns=['index'], inplace=True)"
   ]
  },
  {
   "cell_type": "markdown",
   "metadata": {},
   "source": [
    "I also need to drop duplicates here because once you separate out both the target and indication more duplicates are created"
   ]
  },
  {
   "cell_type": "code",
   "execution_count": 60,
   "metadata": {},
   "outputs": [
    {
     "data": {
      "text/html": [
       "<div>\n",
       "<style scoped>\n",
       "    .dataframe tbody tr th:only-of-type {\n",
       "        vertical-align: middle;\n",
       "    }\n",
       "\n",
       "    .dataframe tbody tr th {\n",
       "        vertical-align: top;\n",
       "    }\n",
       "\n",
       "    .dataframe thead th {\n",
       "        text-align: right;\n",
       "    }\n",
       "</style>\n",
       "<table border=\"1\" class=\"dataframe\">\n",
       "  <thead>\n",
       "    <tr style=\"text-align: right;\">\n",
       "      <th></th>\n",
       "      <th>target</th>\n",
       "      <th>indication</th>\n",
       "    </tr>\n",
       "  </thead>\n",
       "  <tbody>\n",
       "    <tr>\n",
       "      <th>0</th>\n",
       "      <td>10-tetrahydroazepino[2</td>\n",
       "      <td>Preclinical</td>\n",
       "    </tr>\n",
       "    <tr>\n",
       "      <th>1</th>\n",
       "      <td>2</td>\n",
       "      <td>4-tetrahydro</td>\n",
       "    </tr>\n",
       "    <tr>\n",
       "      <th>2</th>\n",
       "      <td>3-beta-D-glucan synthase inhibitor</td>\n",
       "      <td>infectious disease</td>\n",
       "    </tr>\n",
       "    <tr>\n",
       "      <th>4</th>\n",
       "      <td>4</td>\n",
       "      <td>6-hexabromocyclohexane</td>\n",
       "    </tr>\n",
       "    <tr>\n",
       "      <th>5</th>\n",
       "      <td>4</td>\n",
       "      <td>TRPC1</td>\n",
       "    </tr>\n",
       "  </tbody>\n",
       "</table>\n",
       "</div>"
      ],
      "text/plain": [
       "                               target              indication\n",
       "0              10-tetrahydroazepino[2             Preclinical\n",
       "1                                   2            4-tetrahydro\n",
       "2  3-beta-D-glucan synthase inhibitor      infectious disease\n",
       "4                                   4  6-hexabromocyclohexane\n",
       "5                                   4                   TRPC1"
      ]
     },
     "execution_count": 60,
     "metadata": {},
     "output_type": "execute_result"
    }
   ],
   "source": [
    "df3 = pd.DataFrame(df2.drop_duplicates())\n",
    "df3.head() # there is some weird stuff due to the original csv having parsing errors"
   ]
  },
  {
   "cell_type": "markdown",
   "metadata": {},
   "source": [
    "### Mapping disease names to MeSH id\n",
    "\n",
    "While still in this column format, I will do a left merge using the mesh_id/indication data from the termite_tag_indication notebook. Then convert it to an incidence matrix"
   ]
  },
  {
   "cell_type": "code",
   "execution_count": 61,
   "metadata": {},
   "outputs": [],
   "source": [
    "# import indication_to_mesh csv file\n",
    "indication_to_mesh = pd.read_csv('indication_to_mesh.csv')\n",
    "indication_to_mesh.drop(columns=['Unnamed: 0'], inplace=True)"
   ]
  },
  {
   "cell_type": "code",
   "execution_count": 62,
   "metadata": {},
   "outputs": [
    {
     "data": {
      "text/html": [
       "<div>\n",
       "<style scoped>\n",
       "    .dataframe tbody tr th:only-of-type {\n",
       "        vertical-align: middle;\n",
       "    }\n",
       "\n",
       "    .dataframe tbody tr th {\n",
       "        vertical-align: top;\n",
       "    }\n",
       "\n",
       "    .dataframe thead th {\n",
       "        text-align: right;\n",
       "    }\n",
       "</style>\n",
       "<table border=\"1\" class=\"dataframe\">\n",
       "  <thead>\n",
       "    <tr style=\"text-align: right;\">\n",
       "      <th></th>\n",
       "      <th>indication</th>\n",
       "      <th>mesh_id</th>\n",
       "    </tr>\n",
       "  </thead>\n",
       "  <tbody>\n",
       "    <tr>\n",
       "      <th>0</th>\n",
       "      <td>diabetes mellitus</td>\n",
       "      <td>D003920</td>\n",
       "    </tr>\n",
       "    <tr>\n",
       "      <th>1</th>\n",
       "      <td>Addison's disease</td>\n",
       "      <td>D000224</td>\n",
       "    </tr>\n",
       "    <tr>\n",
       "      <th>2</th>\n",
       "      <td>African trypanosomiasis</td>\n",
       "      <td>D014353</td>\n",
       "    </tr>\n",
       "    <tr>\n",
       "      <th>3</th>\n",
       "      <td>Alzheimer's disease</td>\n",
       "      <td>D000544</td>\n",
       "    </tr>\n",
       "    <tr>\n",
       "      <th>4</th>\n",
       "      <td>Buerger's disease</td>\n",
       "      <td>D013919</td>\n",
       "    </tr>\n",
       "  </tbody>\n",
       "</table>\n",
       "</div>"
      ],
      "text/plain": [
       "                indication  mesh_id\n",
       "0        diabetes mellitus  D003920\n",
       "1        Addison's disease  D000224\n",
       "2  African trypanosomiasis  D014353\n",
       "3      Alzheimer's disease  D000544\n",
       "4        Buerger's disease  D013919"
      ]
     },
     "execution_count": 62,
     "metadata": {},
     "output_type": "execute_result"
    }
   ],
   "source": [
    "indication_to_mesh.head()"
   ]
  },
  {
   "cell_type": "code",
   "execution_count": 63,
   "metadata": {},
   "outputs": [],
   "source": [
    "# left merge\n",
    "df4 = pd.merge(df3,indication_to_mesh,how='left',on='indication')\n",
    "df4.head()"
   ]
  },
  {
   "cell_type": "code",
   "execution_count": 65,
   "metadata": {},
   "outputs": [],
   "source": [
    "# only keeping indications because those are the relationships we are interested in\n",
    "df5 = df4.dropna()\n",
    "df5.reset_index(inplace=True)\n",
    "df5.drop(columns=['index'], inplace=True)\n",
    "df5.head()"
   ]
  },
  {
   "cell_type": "markdown",
   "metadata": {},
   "source": [
    "### Incidence Matrix\n",
    "\n",
    "I will now create a matrix where each element{ij} is equal to 1 if gene i and disease j have a row in the previous dataframe"
   ]
  },
  {
   "cell_type": "code",
   "execution_count": 82,
   "metadata": {},
   "outputs": [
    {
     "data": {
      "text/html": [
       "<div>\n",
       "<style scoped>\n",
       "    .dataframe tbody tr th:only-of-type {\n",
       "        vertical-align: middle;\n",
       "    }\n",
       "\n",
       "    .dataframe tbody tr th {\n",
       "        vertical-align: top;\n",
       "    }\n",
       "\n",
       "    .dataframe thead th {\n",
       "        text-align: right;\n",
       "    }\n",
       "</style>\n",
       "<table border=\"1\" class=\"dataframe\">\n",
       "  <thead>\n",
       "    <tr style=\"text-align: right;\">\n",
       "      <th></th>\n",
       "      <th>target</th>\n",
       "      <th>mesh_id</th>\n",
       "    </tr>\n",
       "  </thead>\n",
       "  <tbody>\n",
       "    <tr>\n",
       "      <th>count</th>\n",
       "      <td>5835</td>\n",
       "      <td>5835</td>\n",
       "    </tr>\n",
       "    <tr>\n",
       "      <th>unique</th>\n",
       "      <td>1137</td>\n",
       "      <td>426</td>\n",
       "    </tr>\n",
       "    <tr>\n",
       "      <th>top</th>\n",
       "      <td>CHRM1</td>\n",
       "      <td>D006973</td>\n",
       "    </tr>\n",
       "    <tr>\n",
       "      <th>freq</th>\n",
       "      <td>58</td>\n",
       "      <td>205</td>\n",
       "    </tr>\n",
       "  </tbody>\n",
       "</table>\n",
       "</div>"
      ],
      "text/plain": [
       "       target  mesh_id\n",
       "count    5835     5835\n",
       "unique   1137      426\n",
       "top     CHRM1  D006973\n",
       "freq       58      205"
      ]
     },
     "execution_count": 82,
     "metadata": {},
     "output_type": "execute_result"
    }
   ],
   "source": [
    "# there are some indications which have the same mesh_id as they are different names for the same thing\n",
    "# here I eliminate these duplicates\n",
    "\n",
    "df6 = df5[['target', 'mesh_id']].drop_duplicates()\n",
    "df6.describe()"
   ]
  },
  {
   "cell_type": "code",
   "execution_count": 83,
   "metadata": {},
   "outputs": [],
   "source": [
    "# define column which will map the relationship\n",
    "df6['relationship'] = 1\n"
   ]
  },
  {
   "cell_type": "code",
   "execution_count": 84,
   "metadata": {},
   "outputs": [],
   "source": [
    "# create matrix\n",
    "df7 = df6.pivot(index='target', columns='mesh_id', values='relationship')"
   ]
  },
  {
   "cell_type": "markdown",
   "metadata": {},
   "source": [
    "Saving as a csv for comparison with the sentence co-occurence"
   ]
  },
  {
   "cell_type": "code",
   "execution_count": 91,
   "metadata": {},
   "outputs": [],
   "source": [
    "df7.to_csv('target_indication_matrix.csv')"
   ]
  },
  {
   "cell_type": "code",
   "execution_count": null,
   "metadata": {},
   "outputs": [],
   "source": []
  }
 ],
 "metadata": {
  "kernelspec": {
   "display_name": "Python 3",
   "language": "python",
   "name": "python3"
  },
  "language_info": {
   "codemirror_mode": {
    "name": "ipython",
    "version": 3
   },
   "file_extension": ".py",
   "mimetype": "text/x-python",
   "name": "python",
   "nbconvert_exporter": "python",
   "pygments_lexer": "ipython3",
   "version": "3.7.1"
  }
 },
 "nbformat": 4,
 "nbformat_minor": 2
}
